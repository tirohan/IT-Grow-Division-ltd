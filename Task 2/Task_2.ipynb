{
  "nbformat": 4,
  "nbformat_minor": 0,
  "metadata": {
    "colab": {
      "provenance": []
    },
    "kernelspec": {
      "name": "python3",
      "display_name": "Python 3"
    },
    "language_info": {
      "name": "python"
    }
  },
  "cells": [
    {
      "cell_type": "code",
      "execution_count": 22,
      "metadata": {
        "id": "zAUz1t4wrxNt"
      },
      "outputs": [],
      "source": [
        "import sqlite3"
      ]
    },
    {
      "cell_type": "code",
      "source": [
        "# Function to create the database and table if they don't exist\n",
        "def create_database():\n",
        "    try:\n",
        "        con = sqlite3.connect(\"data.db\")\n",
        "        cursor = con.cursor()\n",
        "\n",
        "        # Create the USERS table if it doesn't exist\n",
        "        cursor.execute('''\n",
        "            CREATE TABLE IF NOT EXISTS USERS (\n",
        "                id INTEGER PRIMARY KEY AUTOINCREMENT,\n",
        "                name TEXT,\n",
        "                age INTEGER,\n",
        "                gender TEXT,\n",
        "                salary INTEGER\n",
        "            )\n",
        "        ''')\n",
        "\n",
        "        con.commit()\n",
        "        con.close()\n",
        "    except Exception as e:\n",
        "        print(f\"Error creating database: {str(e)}\")"
      ],
      "metadata": {
        "id": "wGhNsqrMr3wf"
      },
      "execution_count": 33,
      "outputs": []
    },
    {
      "cell_type": "code",
      "source": [
        "# Function to add a new user record\n",
        "def create():\n",
        "    try:\n",
        "        con = sqlite3.connect(\"data.db\")\n",
        "        cursor = con.cursor()\n",
        "        while True:\n",
        "            name = input(\"Enter Name: \")\n",
        "            age = int(input(\"Enter Age: \"))\n",
        "            gender = input(\"Enter Gender: \")\n",
        "            salary = int(input(\"Enter Salary: \"))\n",
        "            data = (name, age, gender, salary,)\n",
        "            query = \"INSERT INTO USERS (name, age, gender, salary) VALUES (?, ?, ?, ?)\"\n",
        "            cursor.execute(query, data)\n",
        "            con.commit()\n",
        "            ch = input(\"Do You want to Add More Records (Y/N): \")\n",
        "            if ch.lower() == \"n\":\n",
        "                cursor.close()\n",
        "                break\n",
        "    except Exception as e:\n",
        "        print(f\"Error in Record Creation: {str(e)}\")"
      ],
      "metadata": {
        "id": "njcoz2Kz0jwo"
      },
      "execution_count": 34,
      "outputs": []
    },
    {
      "cell_type": "code",
      "source": [
        "# Function to read a single user record by ID\n",
        "def read_one():\n",
        "    try:\n",
        "        con = sqlite3.connect(\"data.db\")\n",
        "        cursor = con.cursor()\n",
        "        ids = int(input(\"Enter User ID: \"))\n",
        "        query = \"SELECT * FROM USERS WHERE id = ?\"\n",
        "        result = cursor.execute(query, (ids,))\n",
        "        user = result.fetchone()\n",
        "        if user:\n",
        "            print(f\"Name: {user[1]}\")\n",
        "            print(f\"Age: {user[2]}\")\n",
        "            print(f\"Gender: {user[3]}\")\n",
        "            print(f\"Salary: {user[4]}\")\n",
        "        else:\n",
        "            print(\"User with the given ID does not exist\")\n",
        "        cursor.close()\n",
        "    except Exception as e:\n",
        "        print(f\"Error reading user: {str(e)}\")"
      ],
      "metadata": {
        "id": "ZATf0OaY0jy_"
      },
      "execution_count": 35,
      "outputs": []
    },
    {
      "cell_type": "code",
      "source": [
        "# Function to read all user records\n",
        "def read_all():\n",
        "    try:\n",
        "        con = sqlite3.connect(\"data.db\")\n",
        "        cursor = con.cursor()\n",
        "        query = \"SELECT * FROM USERS\"\n",
        "        result = cursor.execute(query)\n",
        "        users = result.fetchall()\n",
        "        if users:\n",
        "            print(\"\\n<===Available Records===>\")\n",
        "            for user in users:\n",
        "                print(f\"Name: {user[1]}\")\n",
        "                print(f\"Age: {user[2]}\")\n",
        "                print(f\"Gender: {user[3]}\")\n",
        "                print(f\"Salary: {user[4]}\\n\")\n",
        "        else:\n",
        "            print(\"No records found\")\n",
        "        cursor.close()\n",
        "    except Exception as e:\n",
        "        print(f\"Error reading all users: {str(e)}\")"
      ],
      "metadata": {
        "id": "HAgK5tkN0j1H"
      },
      "execution_count": 36,
      "outputs": []
    },
    {
      "cell_type": "code",
      "source": [
        "# Function to update a user record by ID\n",
        "def update():\n",
        "    try:\n",
        "        con = sqlite3.connect(\"data.db\")\n",
        "        cursor = con.cursor()\n",
        "        idd = int(input(\"Enter User ID to update: \"))\n",
        "        name = input(\"Enter Name: \")\n",
        "        age = int(input(\"Enter Age: \"))\n",
        "        gender = input(\"Enter Gender: \")\n",
        "        salary = int(input(\"Enter Salary: \"))\n",
        "        data = (name, age, gender, salary, idd,)\n",
        "        query = \"UPDATE USERS SET name = ?, age = ?, gender = ?, salary = ? WHERE id = ?\"\n",
        "        cursor.execute(query, data)\n",
        "        con.commit()\n",
        "        cursor.close()\n",
        "        print(\"User record updated successfully\")\n",
        "    except Exception as e:\n",
        "        print(f\"Error updating user: {str(e)}\")"
      ],
      "metadata": {
        "id": "_PfjN8hM0pl-"
      },
      "execution_count": 37,
      "outputs": []
    },
    {
      "cell_type": "code",
      "source": [
        "# Function to delete a user record by ID\n",
        "def delete():\n",
        "    try:\n",
        "        con = sqlite3.connect(\"data.db\")\n",
        "        cursor = con.cursor()\n",
        "        idd = int(input(\"Enter User ID to delete: \"))\n",
        "        query = \"DELETE FROM USERS WHERE id = ?\"\n",
        "        cursor.execute(query, (idd,))\n",
        "        con.commit()\n",
        "        cursor.close()\n",
        "        print(\"User record deleted successfully\")\n",
        "    except Exception as e:\n",
        "        print(f\"Error deleting user: {str(e)}\")"
      ],
      "metadata": {
        "id": "iA4eyZdd0poX"
      },
      "execution_count": 38,
      "outputs": []
    },
    {
      "cell_type": "code",
      "source": [
        "try:\n",
        "    create_database()\n",
        "\n",
        "    while True:\n",
        "        print(\"1). Create Records\")\n",
        "        print(\"2). Read Records\")\n",
        "        print(\"3). Update Records\")\n",
        "        print(\"4). Delete Records\")\n",
        "        print(\"5). Exit\")\n",
        "        ch = int(input(\"Enter Your Choice: \"))\n",
        "\n",
        "        if ch == 1:\n",
        "            create()\n",
        "        elif ch == 2:\n",
        "            print(\"1). Read Single Record\")\n",
        "            print(\"2). Read All Records\")\n",
        "            choice = int(input(\"Enter Your Choice: \"))\n",
        "            if choice == 1:\n",
        "                read_one()\n",
        "            elif choice == 2:\n",
        "                read_all()\n",
        "            else:\n",
        "                print(\"Wrong Choice Entered\")\n",
        "        elif ch == 3:\n",
        "            update()\n",
        "        elif ch == 4:\n",
        "            delete()\n",
        "        elif ch == 5:\n",
        "            break\n",
        "        else:\n",
        "            print(\"Enter Correct Choice\")\n",
        "\n",
        "except Exception as e:\n",
        "    print(f\"Database Error: {str(e)}\")"
      ],
      "metadata": {
        "colab": {
          "base_uri": "https://localhost:8080/"
        },
        "id": "25TzmxOA0prB",
        "outputId": "a59d8426-9df8-477d-91e5-b498aa62aadc"
      },
      "execution_count": 39,
      "outputs": [
        {
          "name": "stdout",
          "output_type": "stream",
          "text": [
            "1). Create Records\n",
            "2). Read Records\n",
            "3). Update Records\n",
            "4). Delete Records\n",
            "5). Exit\n",
            "Enter Your Choice: 1\n",
            "Enter Name: Tanbin\n",
            "Enter Age: 25\n",
            "Enter Gender: Male\n",
            "Enter Salary: 55000\n",
            "Do You want to Add More Records (Y/N): Y\n",
            "Enter Name: Awan\n",
            "Enter Age: 26\n",
            "Enter Gender: Male\n",
            "Enter Salary: 60000\n",
            "Do You want to Add More Records (Y/N): Y\n",
            "Enter Name: Bakar\n",
            "Enter Age: 26\n",
            "Enter Gender: Male\n",
            "Enter Salary: 40000\n",
            "Do You want to Add More Records (Y/N): N\n",
            "1). Create Records\n",
            "2). Read Records\n",
            "3). Update Records\n",
            "4). Delete Records\n",
            "5). Exit\n",
            "Enter Your Choice: 2\n",
            "1). Read Single Record\n",
            "2). Read All Records\n",
            "Enter Your Choice: 2\n",
            "\n",
            "<===Available Records===>\n",
            "Name: Tanbin\n",
            "Age: 25\n",
            "Gender: Male\n",
            "Salary: 55000\n",
            "\n",
            "Name: Awan\n",
            "Age: 26\n",
            "Gender: Male\n",
            "Salary: 60000\n",
            "\n",
            "Name: Bakar\n",
            "Age: 26\n",
            "Gender: Male\n",
            "Salary: 40000\n",
            "\n",
            "1). Create Records\n",
            "2). Read Records\n",
            "3). Update Records\n",
            "4). Delete Records\n",
            "5). Exit\n",
            "Enter Your Choice: 5\n"
          ]
        }
      ]
    },
    {
      "cell_type": "code",
      "source": [
        "from google.colab import files\n",
        "!zip data.zip data.db\n",
        "files.download(\"data.zip\")"
      ],
      "metadata": {
        "colab": {
          "base_uri": "https://localhost:8080/",
          "height": 34
        },
        "id": "U-GsSV0_1cov",
        "outputId": "fbc1e258-1b18-4d5c-bef6-f010200d749f"
      },
      "execution_count": 40,
      "outputs": [
        {
          "output_type": "stream",
          "name": "stdout",
          "text": [
            "  adding: data.db (deflated 97%)\n"
          ]
        },
        {
          "output_type": "display_data",
          "data": {
            "text/plain": [
              "<IPython.core.display.Javascript object>"
            ],
            "application/javascript": [
              "\n",
              "    async function download(id, filename, size) {\n",
              "      if (!google.colab.kernel.accessAllowed) {\n",
              "        return;\n",
              "      }\n",
              "      const div = document.createElement('div');\n",
              "      const label = document.createElement('label');\n",
              "      label.textContent = `Downloading \"${filename}\": `;\n",
              "      div.appendChild(label);\n",
              "      const progress = document.createElement('progress');\n",
              "      progress.max = size;\n",
              "      div.appendChild(progress);\n",
              "      document.body.appendChild(div);\n",
              "\n",
              "      const buffers = [];\n",
              "      let downloaded = 0;\n",
              "\n",
              "      const channel = await google.colab.kernel.comms.open(id);\n",
              "      // Send a message to notify the kernel that we're ready.\n",
              "      channel.send({})\n",
              "\n",
              "      for await (const message of channel.messages) {\n",
              "        // Send a message to notify the kernel that we're ready.\n",
              "        channel.send({})\n",
              "        if (message.buffers) {\n",
              "          for (const buffer of message.buffers) {\n",
              "            buffers.push(buffer);\n",
              "            downloaded += buffer.byteLength;\n",
              "            progress.value = downloaded;\n",
              "          }\n",
              "        }\n",
              "      }\n",
              "      const blob = new Blob(buffers, {type: 'application/binary'});\n",
              "      const a = document.createElement('a');\n",
              "      a.href = window.URL.createObjectURL(blob);\n",
              "      a.download = filename;\n",
              "      div.appendChild(a);\n",
              "      a.click();\n",
              "      div.remove();\n",
              "    }\n",
              "  "
            ]
          },
          "metadata": {}
        },
        {
          "output_type": "display_data",
          "data": {
            "text/plain": [
              "<IPython.core.display.Javascript object>"
            ],
            "application/javascript": [
              "download(\"download_9a3c6d3d-7aff-4883-950e-ef2cb4a8f23f\", \"data.zip\", 503)"
            ]
          },
          "metadata": {}
        }
      ]
    }
  ]
}